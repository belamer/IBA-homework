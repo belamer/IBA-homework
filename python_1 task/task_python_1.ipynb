{
 "cells": [
  {
   "cell_type": "markdown",
   "id": "a785b743",
   "metadata": {},
   "source": [
    "<center>Первое задание: range()</center>"
   ]
  },
  {
   "cell_type": "markdown",
   "id": "b93e0b86",
   "metadata": {},
   "source": [
    "range() не может не иметь ни одного параметра, а в случае наличия хотя бы одного переданного аргумента конец будет задан. Таким образом, имеем случай, когда конец вообще не может быть не задан. Таким образом, не может быть концом бесконечность (случай, когда он не задан). Либо я не поняла задания.\n",
    "\n",
    "P.S. был учтён порядок передаваемых аргументов как для функции range():\n",
    "range(конец)\n",
    "range(начало, конец)\n",
    "range(начало, конец, шаг)"
   ]
  },
  {
   "cell_type": "code",
   "execution_count": 49,
   "id": "5c6de708",
   "metadata": {},
   "outputs": [
    {
     "name": "stdout",
     "output_type": "stream",
     "text": [
      "2\n",
      "4\n",
      "6\n",
      "8\n",
      "2\n",
      "4\n",
      "6\n",
      "8\n"
     ]
    }
   ],
   "source": [
    "def custom_range (start: int = None, end: int = None, step: int = 1):\n",
    "    if start != None and end == None:\n",
    "        end = start\n",
    "        start = 0\n",
    "    iter=0\n",
    "    output = []\n",
    "    while(start + step*iter<end):\n",
    "        output.append(start + step*iter)\n",
    "        iter=iter+1\n",
    "    return output\n",
    "\n",
    "for x in range(2,9,2):\n",
    "    print(x)\n",
    "\n",
    "for x in custom_range(2,9,2):\n",
    "    print(x)"
   ]
  },
  {
   "cell_type": "markdown",
   "id": "6d962c5a",
   "metadata": {},
   "source": [
    "<center>Второе задание: счастливый билетик</center>"
   ]
  },
  {
   "cell_type": "code",
   "execution_count": 50,
   "id": "6b6f9ae7",
   "metadata": {},
   "outputs": [
    {
     "name": "stdout",
     "output_type": "stream",
     "text": [
      "Input ticket_number: \n",
      "1234554321\n",
      "Ticket is lucky\n"
     ]
    }
   ],
   "source": [
    "print(\"Input ticket_number: \")\n",
    "ticket_number = [int(number) for number in input()]\n",
    "center=int(len(ticket_number)/2)\n",
    "if sum(ticket_number[center:]) == sum(ticket_number[:center]):\n",
    "    print('Ticket is lucky')\n",
    "else:\n",
    "    print('Ticket is unlucky')"
   ]
  }
 ],
 "metadata": {
  "kernelspec": {
   "display_name": "Python 3 (ipykernel)",
   "language": "python",
   "name": "python3"
  },
  "language_info": {
   "codemirror_mode": {
    "name": "ipython",
    "version": 3
   },
   "file_extension": ".py",
   "mimetype": "text/x-python",
   "name": "python",
   "nbconvert_exporter": "python",
   "pygments_lexer": "ipython3",
   "version": "3.9.5"
  }
 },
 "nbformat": 4,
 "nbformat_minor": 5
}
